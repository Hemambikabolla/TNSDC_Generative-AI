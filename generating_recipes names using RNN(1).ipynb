{
 "cells": [
  {
   "cell_type": "code",
   "execution_count": 1,
   "id": "03acafad",
   "metadata": {},
   "outputs": [
    {
     "name": "stderr",
     "output_type": "stream",
     "text": [
      "C:\\Users\\Annap\\anaconda3\\lib\\site-packages\\pandas\\core\\arrays\\masked.py:60: UserWarning: Pandas requires version '1.3.6' or newer of 'bottleneck' (version '1.3.5' currently installed).\n",
      "  from pandas.core import (\n"
     ]
    }
   ],
   "source": [
    "import os\n",
    "import time\n",
    "import string\n",
    "import unicodedata\n",
    "\n",
    "import numpy as np\n",
    "import pandas as pd\n",
    "import tensorflow as tf\n",
    "from sklearn.model_selection import train_test_split\n",
    "import matplotlib.pyplot as plt"
   ]
  },
  {
   "cell_type": "code",
   "execution_count": 2,
   "id": "8766a23f",
   "metadata": {},
   "outputs": [
    {
     "name": "stdout",
     "output_type": "stream",
     "text": [
      "File is 26.60 MB\n"
     ]
    }
   ],
   "source": [
    "\n",
    "\n",
    "file_path = 'Food Ingredients and Recipe Dataset with Image Name Mapping.csv'\n",
    "print(f'File is {os.path.getsize(file_path)/1_000_000:.2f} MB')\n",
    "\n"
   ]
  },
  {
   "cell_type": "code",
   "execution_count": 3,
   "id": "d1c0c6ca",
   "metadata": {},
   "outputs": [
    {
     "data": {
      "text/html": [
       "<div>\n",
       "<style scoped>\n",
       "    .dataframe tbody tr th:only-of-type {\n",
       "        vertical-align: middle;\n",
       "    }\n",
       "\n",
       "    .dataframe tbody tr th {\n",
       "        vertical-align: top;\n",
       "    }\n",
       "\n",
       "    .dataframe thead th {\n",
       "        text-align: right;\n",
       "    }\n",
       "</style>\n",
       "<table border=\"1\" class=\"dataframe\">\n",
       "  <thead>\n",
       "    <tr style=\"text-align: right;\">\n",
       "      <th></th>\n",
       "      <th>Title</th>\n",
       "      <th>Ingredients</th>\n",
       "      <th>Instructions</th>\n",
       "      <th>Image_Name</th>\n",
       "      <th>Cleaned_Ingredients</th>\n",
       "    </tr>\n",
       "  </thead>\n",
       "  <tbody>\n",
       "    <tr>\n",
       "      <th>0</th>\n",
       "      <td>Miso-Butter Roast Chicken With Acorn Squash Pa...</td>\n",
       "      <td>['1 (3½–4-lb.) whole chicken', '2¾ tsp. kosher...</td>\n",
       "      <td>Pat chicken dry with paper towels, season all ...</td>\n",
       "      <td>miso-butter-roast-chicken-acorn-squash-panzanella</td>\n",
       "      <td>['1 (3½–4-lb.) whole chicken', '2¾ tsp. kosher...</td>\n",
       "    </tr>\n",
       "    <tr>\n",
       "      <th>1</th>\n",
       "      <td>Crispy Salt and Pepper Potatoes</td>\n",
       "      <td>['2 large egg whites', '1 pound new potatoes (...</td>\n",
       "      <td>Preheat oven to 400°F and line a rimmed baking...</td>\n",
       "      <td>crispy-salt-and-pepper-potatoes-dan-kluger</td>\n",
       "      <td>['2 large egg whites', '1 pound new potatoes (...</td>\n",
       "    </tr>\n",
       "    <tr>\n",
       "      <th>2</th>\n",
       "      <td>Thanksgiving Mac and Cheese</td>\n",
       "      <td>['1 cup evaporated milk', '1 cup whole milk', ...</td>\n",
       "      <td>Place a rack in middle of oven; preheat to 400...</td>\n",
       "      <td>thanksgiving-mac-and-cheese-erick-williams</td>\n",
       "      <td>['1 cup evaporated milk', '1 cup whole milk', ...</td>\n",
       "    </tr>\n",
       "    <tr>\n",
       "      <th>3</th>\n",
       "      <td>Italian Sausage and Bread Stuffing</td>\n",
       "      <td>['1 (¾- to 1-pound) round Italian loaf, cut in...</td>\n",
       "      <td>Preheat oven to 350°F with rack in middle. Gen...</td>\n",
       "      <td>italian-sausage-and-bread-stuffing-240559</td>\n",
       "      <td>['1 (¾- to 1-pound) round Italian loaf, cut in...</td>\n",
       "    </tr>\n",
       "    <tr>\n",
       "      <th>4</th>\n",
       "      <td>Newton's Law</td>\n",
       "      <td>['1 teaspoon dark brown sugar', '1 teaspoon ho...</td>\n",
       "      <td>Stir together brown sugar and hot water in a c...</td>\n",
       "      <td>newtons-law-apple-bourbon-cocktail</td>\n",
       "      <td>['1 teaspoon dark brown sugar', '1 teaspoon ho...</td>\n",
       "    </tr>\n",
       "  </tbody>\n",
       "</table>\n",
       "</div>"
      ],
      "text/plain": [
       "                                               Title  \\\n",
       "0  Miso-Butter Roast Chicken With Acorn Squash Pa...   \n",
       "1                    Crispy Salt and Pepper Potatoes   \n",
       "2                        Thanksgiving Mac and Cheese   \n",
       "3                 Italian Sausage and Bread Stuffing   \n",
       "4                                       Newton's Law   \n",
       "\n",
       "                                         Ingredients  \\\n",
       "0  ['1 (3½–4-lb.) whole chicken', '2¾ tsp. kosher...   \n",
       "1  ['2 large egg whites', '1 pound new potatoes (...   \n",
       "2  ['1 cup evaporated milk', '1 cup whole milk', ...   \n",
       "3  ['1 (¾- to 1-pound) round Italian loaf, cut in...   \n",
       "4  ['1 teaspoon dark brown sugar', '1 teaspoon ho...   \n",
       "\n",
       "                                        Instructions  \\\n",
       "0  Pat chicken dry with paper towels, season all ...   \n",
       "1  Preheat oven to 400°F and line a rimmed baking...   \n",
       "2  Place a rack in middle of oven; preheat to 400...   \n",
       "3  Preheat oven to 350°F with rack in middle. Gen...   \n",
       "4  Stir together brown sugar and hot water in a c...   \n",
       "\n",
       "                                          Image_Name  \\\n",
       "0  miso-butter-roast-chicken-acorn-squash-panzanella   \n",
       "1         crispy-salt-and-pepper-potatoes-dan-kluger   \n",
       "2         thanksgiving-mac-and-cheese-erick-williams   \n",
       "3          italian-sausage-and-bread-stuffing-240559   \n",
       "4                 newtons-law-apple-bourbon-cocktail   \n",
       "\n",
       "                                 Cleaned_Ingredients  \n",
       "0  ['1 (3½–4-lb.) whole chicken', '2¾ tsp. kosher...  \n",
       "1  ['2 large egg whites', '1 pound new potatoes (...  \n",
       "2  ['1 cup evaporated milk', '1 cup whole milk', ...  \n",
       "3  ['1 (¾- to 1-pound) round Italian loaf, cut in...  \n",
       "4  ['1 teaspoon dark brown sugar', '1 teaspoon ho...  "
      ]
     },
     "execution_count": 3,
     "metadata": {},
     "output_type": "execute_result"
    }
   ],
   "source": [
    "df = pd.read_csv(file_path, index_col=0)\n",
    "df.head()"
   ]
  },
  {
   "cell_type": "code",
   "execution_count": 4,
   "id": "6423c111",
   "metadata": {},
   "outputs": [
    {
     "data": {
      "text/plain": [
       "0    Miso-Butter Roast Chicken With Acorn Squash Pa...\n",
       "1                      Crispy Salt and Pepper Potatoes\n",
       "2                          Thanksgiving Mac and Cheese\n",
       "3                   Italian Sausage and Bread Stuffing\n",
       "4                                         Newton's Law\n",
       "Name: Title, dtype: object"
      ]
     },
     "execution_count": 4,
     "metadata": {},
     "output_type": "execute_result"
    }
   ],
   "source": [
    "titles = df['Title']\n",
    "titles.head()"
   ]
  },
  {
   "cell_type": "code",
   "execution_count": 5,
   "id": "d204ae68",
   "metadata": {},
   "outputs": [
    {
     "name": "stdout",
     "output_type": "stream",
     "text": [
      "Count including NaNs: 13501\n",
      "count             13496\n",
      "unique            13305\n",
      "top       Potato Latkes\n",
      "freq                  5\n",
      "Name: Title, dtype: object\n"
     ]
    }
   ],
   "source": [
    "print(f'Count including NaNs: {len(titles)}')\n",
    "print(titles.describe())"
   ]
  },
  {
   "cell_type": "code",
   "execution_count": 6,
   "id": "0da1c52a",
   "metadata": {},
   "outputs": [
    {
     "name": "stdout",
     "output_type": "stream",
     "text": [
      "Title lengths:\n",
      "count    13496.000000\n",
      "mean        32.761633\n",
      "std         14.756405\n",
      "min          3.000000\n",
      "25%         21.000000\n",
      "50%         31.000000\n",
      "75%         43.000000\n",
      "max        112.000000\n",
      "Name: Title, dtype: float64\n"
     ]
    }
   ],
   "source": [
    "print(\"Title lengths:\")\n",
    "lengths = titles.str.len()\n",
    "print(lengths.describe())"
   ]
  },
  {
   "cell_type": "code",
   "execution_count": 7,
   "id": "09a1c41c",
   "metadata": {},
   "outputs": [
    {
     "name": "stdout",
     "output_type": "stream",
     "text": [
      "Null value count: 5\n"
     ]
    }
   ],
   "source": [
    "print(f'Null value count: {titles.isnull().sum()}')\n",
    "\n",
    "# Drop null values\n",
    "titles.dropna(inplace=True)"
   ]
  },
  {
   "cell_type": "code",
   "execution_count": 8,
   "id": "09f46ff9",
   "metadata": {},
   "outputs": [
    {
     "name": "stdout",
     "output_type": "stream",
     "text": [
      "Unique characters: 136\n",
      "\n",
      " !\"#%&'()+,-./012345679:;ABCDEFGHIJKLMNOPQRSTUVWXYZabcdefghijklmnopqrstuvwxyz ®ÁÉàáâãäçèéêëìíîïñòóôöøùúûüōờ́̃̉Сикнры –—‘’“”강개닭된장전정찌파\n"
     ]
    }
   ],
   "source": [
    "chars = set()\n",
    "\n",
    "for title in titles:\n",
    "    for char in title:\n",
    "        chars.add(char)\n",
    "\n",
    "chars = sorted(chars)\n",
    "print(f'Unique characters: {len(chars)}')\n",
    "print(''.join(chars))"
   ]
  },
  {
   "cell_type": "code",
   "execution_count": 9,
   "id": "c50b465e",
   "metadata": {},
   "outputs": [
    {
     "name": "stdout",
     "output_type": "stream",
     "text": [
      "Unexpected character: <control>\n",
      "Titles containing char: 3\n",
      "2826    Barbecue Pork Kebabs With\\n                Blistered-Chile–Pumpkin Seed Salsa\n",
      "4512                                 Salmon Cakes\\n                With Arugula Salad\n",
      "6626                                 Brochette de Lapin\\n                aux Pruneaux\n",
      "Name: Title, dtype: object\n",
      "\n",
      "Unexpected character: PLUS SIGN\n",
      "Titles containing char: 2\n",
      "796                                       Ginger + Greens Smoothie\n",
      "797    Spinach + Shiitake Grits Harvest Bowl (with sliced avocado)\n",
      "Name: Title, dtype: object\n",
      "\n",
      "Unexpected character: SOLIDUS\n",
      "Titles containing char: 6\n",
      "74               Doenjang Jjigae (된장찌개 / Fermented-Soybean Stew)\n",
      "75      Dakgangjeong (닭강정 / Korean Sweet, Crunchy Fried Chicken)\n",
      "118                             Pajeon (파 전 / Scallion Pancakes)\n",
      "232                 Syrniki (Сырники / Farmer’s Cheese Pancakes)\n",
      "6250                                 White Miso Peach/Pear/Apple\n",
      "Name: Title, dtype: object\n",
      "\n",
      "Unexpected character: SEMICOLON\n",
      "Titles containing char: 2\n",
      "91      Salted PB&J; Ice Cream Pie\n",
      "3785          Quinoa PB&J; Cookies\n",
      "Name: Title, dtype: object\n",
      "\n",
      "Unexpected character: <control>\n",
      "Titles containing char: 1\n",
      "8033    Spicy Popcorn With Piment d'Espelette and Marcona Almonds\n",
      "Name: Title, dtype: object\n",
      "\n",
      "Unexpected character: <control>\n",
      "Titles containing char: 5\n",
      "4242                           Candy Cane-Chocolate Cookies\n",
      "4244                     Black SesameBrown Sugar Shortbread\n",
      "6623          Chocolate Peanut Butter MousseFilled Cupcakes\n",
      "7261                         Vanilla Cream–Filled Doughnuts\n",
      "8334    Confetti Corn BreadCrusted Shrimp in Creole Filling\n",
      "Name: Title, dtype: object\n",
      "\n",
      "Unexpected character: NO-BREAK SPACE\n",
      "Titles containing char: 2\n",
      "1890    Fresh Taco Salad with Creamy Avocado-Lime Dressing\n",
      "2556                The Ripper’s Pasta With Uni and Caviar\n",
      "Name: Title, dtype: object\n",
      "\n",
      "Unexpected character: REGISTERED SIGN\n",
      "Titles containing char: 2\n",
      "1551    Gold Medal® Classic Biscuits\n",
      "1562          Nutter Butter® Cookies\n",
      "Name: Title, dtype: object\n",
      "\n",
      "Unexpected character: LATIN CAPITAL LETTER A WITH ACUTE\n",
      "Titles containing char: 5\n",
      "284                                                                                  Salsa de Árbol\n",
      "719     Potatoes with Roasted Poblano Chiles and Mexican Sour Cream (Papas con Rajas y Crema Ácida)\n",
      "1996                                                     Toasted Chile de Árbol and Tomatillo Salsa\n",
      "4703                                                             Garlic Shrimp with Chiles de Árbol\n",
      "6377                                                              Sesame Seed and Árbol Chile Salsa\n",
      "Name: Title, dtype: object\n",
      "\n",
      "Unexpected character: LATIN CAPITAL LETTER E WITH ACUTE\n",
      "Titles containing char: 1\n",
      "2298    Instant-Pot Kidney Bean Étouffée\n",
      "Name: Title, dtype: object\n",
      "\n",
      "Unexpected character: LATIN SMALL LETTER A WITH GRAVE\n",
      "Titles containing char: 21\n",
      "3142    Coeur à la Crème with Roasted Strawberry Sauce\n",
      "4885                              Broccoli Bagna Càuda\n",
      "5107                               Poulet à l'Estragon\n",
      "5915                           Scallops à La Provençal\n",
      "5960                    Inside-Out Apple Pie à la Mode\n",
      "Name: Title, dtype: object\n",
      "\n",
      "Unexpected character: LATIN SMALL LETTER A WITH ACUTE\n",
      "Titles containing char: 8\n",
      "198          Lágrimas de la Virgen (Beet Cooler With Fruits)\n",
      "246     Mashed Plantains With Fried Eggs (Mangú de Plátanos)\n",
      "298                                  Pork Volcánes al Pastor\n",
      "573                                        Fried Egg Bánh Mì\n",
      "3680                       Ceviche Clásico (Classic Ceviche)\n",
      "Name: Title, dtype: object\n",
      "\n",
      "Unexpected character: LATIN SMALL LETTER A WITH CIRCUMFLEX\n",
      "Titles containing char: 22\n",
      "1245               Eggplant and Yogurt Spread (Borani-E Bâdenjân)\n",
      "3252                      Country Pâté Toasts With Pickled Grapes\n",
      "3830                                        Mâitre d'Hôtel Butter\n",
      "6681    Endive with Chicken Liver Pâte and Dried-Cherry Marmalade\n",
      "6717                                              Gâteau de Sirop\n",
      "Name: Title, dtype: object\n",
      "\n",
      "Unexpected character: LATIN SMALL LETTER A WITH TILDE\n",
      "Titles containing char: 1\n",
      "7714    Brazilian Cheese Bread (Pão de Queijo)\n",
      "Name: Title, dtype: object\n",
      "\n",
      "Unexpected character: LATIN SMALL LETTER A WITH DIAERESIS\n",
      "Titles containing char: 2\n",
      "3781    Bo Ssäm Grilled Pork and Pickled Slaw in Lettuce Cups\n",
      "4974                                                  Bo Ssäm\n",
      "Name: Title, dtype: object\n",
      "\n",
      "Unexpected character: LATIN SMALL LETTER C WITH CEDILLA\n",
      "Titles containing char: 23\n",
      "614                                                              Any Way Niçoise\n",
      "1142                                                               Niçoise Toast\n",
      "1448                                          Roasted Niçoise Salad with Halibut\n",
      "1892                                                   Vegan Niçoise-Style Salad\n",
      "2239    Provençal Roasted Garlic–Braised Breast of Veal with Springtime Stuffing\n",
      "Name: Title, dtype: object\n",
      "\n",
      "Unexpected character: LATIN SMALL LETTER E WITH GRAVE\n",
      "Titles containing char: 118\n",
      "73     Pork Chops and Padrón Chiles en Escabèche\n",
      "151                Savory Gruyère Bread With Ham\n",
      "189     Radishes With Crème Fraîche and Furikake\n",
      "427                               Ponche a Crème\n",
      "785                         Classic Crème Brûlée\n",
      "Name: Title, dtype: object\n",
      "\n",
      "Unexpected character: LATIN SMALL LETTER E WITH ACUTE\n",
      "Titles containing char: 271\n",
      "19     Roasted Beets With Crispy Sunchokes and Pickled Orange-Ginger Purée\n",
      "41                                                       Iced Café de Olla\n",
      "105                                                           Rosé All Day\n",
      "785                                                   Classic Crème Brûlée\n",
      "893                                Truffled Bay Scallops with Celery Purée\n",
      "Name: Title, dtype: object\n",
      "\n",
      "Unexpected character: LATIN SMALL LETTER E WITH CIRCUMFLEX\n",
      "Titles containing char: 8\n",
      "2191        Chickpea Crêpe \"Tacos\" with Eggplant and Lamb\n",
      "2887    Buckwheat Crêpes With Creamy Leeks and Baked Eggs\n",
      "5905                Chestnut Crêpes with Creamy Mushrooms\n",
      "7082                                       S'mores Crêpes\n",
      "8337                            Smoked-Salmon Crêpe Torte\n",
      "Name: Title, dtype: object\n",
      "\n",
      "Unexpected character: LATIN SMALL LETTER E WITH DIAERESIS\n",
      "Titles containing char: 5\n",
      "420               Cardamom-Pistachio Bûche de Noël\n",
      "3276                                 Bûche de Noël\n",
      "7422     Frozen Chocolate-Peppermint Bùche de Noël\n",
      "10316                          Yodel Bûche de Noël\n",
      "11264                  Caramel-Pecan Bûche de Noël\n",
      "Name: Title, dtype: object\n",
      "\n",
      "Unexpected character: LATIN SMALL LETTER I WITH GRAVE\n",
      "Titles containing char: 1\n",
      "573    Fried Egg Bánh Mì\n",
      "Name: Title, dtype: object\n",
      "\n",
      "Unexpected character: LATIN SMALL LETTER I WITH ACUTE\n",
      "Titles containing char: 14\n",
      "197                         Agua de Limón con Chía (Limeade With Chia Seeds)\n",
      "1248    Grilled Corn with Hot Paprika Oil and Manchego Cheese (Maíz Rustido)\n",
      "2435                                         Tajín-Seasoned Vegetable Spears\n",
      "5294                                   Grilled Beef, Jícama, and Apple Salad\n",
      "6832                      Tía Rosa and Ruth Eichner's Sweet-and-Sour Carrots\n",
      "Name: Title, dtype: object\n",
      "\n",
      "Unexpected character: LATIN SMALL LETTER I WITH CIRCUMFLEX\n",
      "Titles containing char: 57\n",
      "189               Radishes With Crème Fraîche and Furikake\n",
      "2033      Raspberry Crème Fraîche Tart with Lavender Honey\n",
      "3015                 Wilted Greens Soup with Crème Fraîche\n",
      "3250                     Caviar and Crème Fraîche Tartlets\n",
      "3294    Maple-Cinnamon Toast With Citrus and Crème Fraîche\n",
      "Name: Title, dtype: object\n",
      "\n",
      "Unexpected character: LATIN SMALL LETTER I WITH DIAERESIS\n",
      "Titles containing char: 13\n",
      "3079                  Fried Potatoes with Tomato-Chipotle Sauce and Aïoli\n",
      "5047    Beef Brisket with Slow-Roasted Romano Beans and Black Olive Aïoli\n",
      "6077               Fennel-Crusted Ahi Tuna with Lemon Aïoli Over Couscous\n",
      "9799                                      Grilled Salmon with Basil Aïoli\n",
      "9803                                                           Easy Aïoli\n",
      "Name: Title, dtype: object\n",
      "\n",
      "Unexpected character: LATIN SMALL LETTER N WITH TILDE\n",
      "Titles containing char: 44\n",
      "194                              Jalapeño Pepper Jelly\n",
      "652              Jalapeño-Marinated Grilled Pork Chops\n",
      "1252                Jalapeño Poppers with Smoked Gouda\n",
      "1932    Soy-Basted Pork Chops with Herbs and Jalapeños\n",
      "1969                           Malted Milk Piñata Cake\n",
      "Name: Title, dtype: object\n",
      "\n",
      "Unexpected character: LATIN SMALL LETTER O WITH GRAVE\n",
      "Titles containing char: 1\n",
      "6008    Bún Bò Hue\n",
      "Name: Title, dtype: object\n",
      "\n",
      "Unexpected character: LATIN SMALL LETTER O WITH ACUTE\n",
      "Titles containing char: 15\n",
      "73                        Pork Chops and Padrón Chiles en Escabèche\n",
      "197                Agua de Limón con Chía (Limeade With Chia Seeds)\n",
      "213     Avocado and Lemon Water (Agua de Aguacate y Limón Amarillo)\n",
      "1351                                                          Sazón\n",
      "1894                                              Chicharrón Casera\n",
      "Name: Title, dtype: object\n",
      "\n",
      "Unexpected character: LATIN SMALL LETTER O WITH CIRCUMFLEX\n",
      "Titles containing char: 4\n",
      "2688     Roast Lobster with Pink Butter Sauce (Langouste Rôtie au Beurre Rose Hostelleries Saint-Roch)\n",
      "3830                                                                             Mâitre d'Hôtel Butter\n",
      "8115                                                                        Casônsèi from Val Camonica\n",
      "10074                                    Pan-Seared Rib-Eye Steak with Béarnaise (Entrecôte Béarnaise)\n",
      "Name: Title, dtype: object\n",
      "\n",
      "Unexpected character: LATIN SMALL LETTER O WITH DIAERESIS\n",
      "Titles containing char: 8\n",
      "3346            Salt-and-Vinegar Rösti\n",
      "5740             Rösti with Fried Eggs\n",
      "6249                    Potatoes Rösti\n",
      "6583          Herbed Rösti Potato Cake\n",
      "6662    Rösti with Bacon and Scallions\n",
      "Name: Title, dtype: object\n",
      "\n",
      "Unexpected character: LATIN SMALL LETTER O WITH STROKE\n",
      "Titles containing char: 1\n",
      "5614    Smoked Salmon Smørrebrød\n",
      "Name: Title, dtype: object\n",
      "\n",
      "Unexpected character: LATIN SMALL LETTER U WITH GRAVE\n",
      "Titles containing char: 28\n",
      "458                                      Ragù Bolognese\n",
      "685                                 Old-School Tiramisù\n",
      "1236                     Tiramisù with Amaretti Cookies\n",
      "1360                   Pork Shoulder Braciola with Ragù\n",
      "2094    Pappardelle with Chicken Ragù, Fennel, and Peas\n",
      "Name: Title, dtype: object\n",
      "\n",
      "Unexpected character: LATIN SMALL LETTER U WITH ACUTE\n",
      "Titles containing char: 3\n",
      "246     Mashed Plantains With Fried Eggs (Mangú de Plátanos)\n",
      "6008                                              Bún Bò Hue\n",
      "7634                       Kahlúa-Spiked Frozen Mocha Lattes\n",
      "Name: Title, dtype: object\n",
      "\n",
      "Unexpected character: LATIN SMALL LETTER U WITH CIRCUMFLEX\n",
      "Titles containing char: 29\n",
      "420              Cardamom-Pistachio Bûche de Noël\n",
      "785                          Classic Crème Brûlée\n",
      "1731                            Crème Brûlée Tart\n",
      "2507    Braised and Brûléed Apples with Ice Cream\n",
      "3276                                Bûche de Noël\n",
      "Name: Title, dtype: object\n",
      "\n",
      "Unexpected character: LATIN SMALL LETTER U WITH DIAERESIS\n",
      "Titles containing char: 3\n",
      "4976     Brook Trout Müllerin\n",
      "10935         Streusel Küchen\n",
      "11566             Pear Küchen\n",
      "Name: Title, dtype: object\n",
      "\n",
      "Unexpected character: LATIN SMALL LETTER O WITH MACRON\n",
      "Titles containing char: 1\n",
      "1203    Summertime Sōmen Noodles\n",
      "Name: Title, dtype: object\n",
      "\n",
      "Unexpected character: LATIN SMALL LETTER O WITH HORN\n",
      "Titles containing char: 1\n",
      "2242    Classic Chicken Pho (Phở Gà)\n",
      "Name: Title, dtype: object\n",
      "\n",
      "Unexpected character: COMBINING GRAVE ACCENT\n",
      "Titles containing char: 1\n",
      "2242    Classic Chicken Pho (Phở Gà)\n",
      "Name: Title, dtype: object\n",
      "\n",
      "Unexpected character: COMBINING ACUTE ACCENT\n",
      "Titles containing char: 2\n",
      "97      Plátanos Horneados con Crema y Queso (Baked Banana With Crema and Cheese)\n",
      "2456                                                    Espresso Chocolate Sablés\n",
      "Name: Title, dtype: object\n",
      "\n",
      "Unexpected character: COMBINING TILDE\n",
      "Titles containing char: 1\n",
      "1495    Roasted Cauliflower with Lemon Zest, Parsley, Capers, and Jalapeño\n",
      "Name: Title, dtype: object\n",
      "\n",
      "Unexpected character: COMBINING HOOK ABOVE\n",
      "Titles containing char: 1\n",
      "2242    Classic Chicken Pho (Phở Gà)\n",
      "Name: Title, dtype: object\n",
      "\n",
      "Unexpected character: CYRILLIC CAPITAL LETTER ES\n",
      "Titles containing char: 1\n",
      "232    Syrniki (Сырники / Farmer’s Cheese Pancakes)\n",
      "Name: Title, dtype: object\n",
      "\n",
      "Unexpected character: CYRILLIC SMALL LETTER I\n",
      "Titles containing char: 1\n",
      "232    Syrniki (Сырники / Farmer’s Cheese Pancakes)\n",
      "Name: Title, dtype: object\n",
      "\n",
      "Unexpected character: CYRILLIC SMALL LETTER KA\n",
      "Titles containing char: 1\n",
      "232    Syrniki (Сырники / Farmer’s Cheese Pancakes)\n",
      "Name: Title, dtype: object\n",
      "\n",
      "Unexpected character: CYRILLIC SMALL LETTER EN\n",
      "Titles containing char: 1\n",
      "232    Syrniki (Сырники / Farmer’s Cheese Pancakes)\n",
      "Name: Title, dtype: object\n",
      "\n",
      "Unexpected character: CYRILLIC SMALL LETTER ER\n",
      "Titles containing char: 1\n",
      "232    Syrniki (Сырники / Farmer’s Cheese Pancakes)\n",
      "Name: Title, dtype: object\n",
      "\n",
      "Unexpected character: CYRILLIC SMALL LETTER YERU\n",
      "Titles containing char: 1\n",
      "232    Syrniki (Сырники / Farmer’s Cheese Pancakes)\n",
      "Name: Title, dtype: object\n",
      "\n",
      "Unexpected character: THIN SPACE\n",
      "Titles containing char: 1\n",
      "8026    Mushroom and Leek Soup with Parsley Dumplings\n",
      "Name: Title, dtype: object\n",
      "\n",
      "Unexpected character: EN DASH\n",
      "Titles containing char: 85\n",
      "77                         Thai Muslim–Style Grilled Chicken\n",
      "183                                  Whole Wheat–Oat Waffles\n",
      "272    Spicy Tomato–Tuna Noodle Skillet Casserole With Aioli\n",
      "312              Chile and Ginger–Fried Tofu Salad With Kale\n",
      "516                            Shishito Pepper–Pistachio Dip\n",
      "Name: Title, dtype: object\n",
      "\n",
      "Unexpected character: EM DASH\n",
      "Titles containing char: 3\n",
      "7862                                 Piquitos De Enrique Dacosta—Enrique's Bread Bites\n",
      "7884     Pan con Tomate' y Anchoa—Garlic, Olive Oil, and Fresh Tomato on Toasted Bread\n",
      "10116                                    Tangerine Pie—Caramelized Pineapple Turnovers\n",
      "Name: Title, dtype: object\n",
      "\n",
      "Unexpected character: LEFT SINGLE QUOTATION MARK\n",
      "Titles containing char: 2\n",
      "1135      Date Ice Cream (Buza ‘Ala-Tamr)\n",
      "1189    Hidden Cauliflower Mac ‘n’ Cheese\n",
      "Name: Title, dtype: object\n",
      "\n",
      "Unexpected character: RIGHT SINGLE QUOTATION MARK\n",
      "Titles containing char: 27\n",
      "29                            Dad’s Curried Chicken\n",
      "126                              Brad’s Spoon Sauce\n",
      "232    Syrniki (Сырники / Farmer’s Cheese Pancakes)\n",
      "344                          Za’atar Fish and Chips\n",
      "380                         Parson’s Negroni Slushy\n",
      "Name: Title, dtype: object\n",
      "\n",
      "Unexpected character: LEFT DOUBLE QUOTATION MARK\n",
      "Titles containing char: 9\n",
      "412     Okonomiyaki (“As You Like It”) Pancakes With Bonito Flakes\n",
      "1188                     One-Pot Turkey Bolognese with “Spaghetti”\n",
      "2074                                                Tempeh “Bacon”\n",
      "2188                  Gingery Chicken Soup with Zucchini “Noodles”\n",
      "2260           Vegetarian Buffalo “Meatballs” With Blue Cheese Dip\n",
      "Name: Title, dtype: object\n",
      "\n",
      "Unexpected character: RIGHT DOUBLE QUOTATION MARK\n",
      "Titles containing char: 9\n",
      "412     Okonomiyaki (“As You Like It”) Pancakes With Bonito Flakes\n",
      "1188                     One-Pot Turkey Bolognese with “Spaghetti”\n",
      "2074                                                Tempeh “Bacon”\n",
      "2188                  Gingery Chicken Soup with Zucchini “Noodles”\n",
      "2260           Vegetarian Buffalo “Meatballs” With Blue Cheese Dip\n",
      "Name: Title, dtype: object\n",
      "\n",
      "Unexpected character: HANGUL SYLLABLE GANG\n",
      "Titles containing char: 1\n",
      "75    Dakgangjeong (닭강정 / Korean Sweet, Crunchy Fried Chicken)\n",
      "Name: Title, dtype: object\n",
      "\n",
      "Unexpected character: HANGUL SYLLABLE GAE\n",
      "Titles containing char: 1\n",
      "74    Doenjang Jjigae (된장찌개 / Fermented-Soybean Stew)\n",
      "Name: Title, dtype: object\n",
      "\n",
      "Unexpected character: HANGUL SYLLABLE DALG\n",
      "Titles containing char: 1\n",
      "75    Dakgangjeong (닭강정 / Korean Sweet, Crunchy Fried Chicken)\n",
      "Name: Title, dtype: object\n",
      "\n",
      "Unexpected character: HANGUL SYLLABLE DOEN\n",
      "Titles containing char: 1\n",
      "74    Doenjang Jjigae (된장찌개 / Fermented-Soybean Stew)\n",
      "Name: Title, dtype: object\n",
      "\n",
      "Unexpected character: HANGUL SYLLABLE JANG\n",
      "Titles containing char: 1\n",
      "74    Doenjang Jjigae (된장찌개 / Fermented-Soybean Stew)\n",
      "Name: Title, dtype: object\n",
      "\n",
      "Unexpected character: HANGUL SYLLABLE JEON\n",
      "Titles containing char: 1\n",
      "118    Pajeon (파 전 / Scallion Pancakes)\n",
      "Name: Title, dtype: object\n",
      "\n",
      "Unexpected character: HANGUL SYLLABLE JEONG\n",
      "Titles containing char: 1\n",
      "75    Dakgangjeong (닭강정 / Korean Sweet, Crunchy Fried Chicken)\n",
      "Name: Title, dtype: object\n",
      "\n",
      "Unexpected character: HANGUL SYLLABLE JJI\n",
      "Titles containing char: 1\n",
      "74    Doenjang Jjigae (된장찌개 / Fermented-Soybean Stew)\n",
      "Name: Title, dtype: object\n",
      "\n",
      "Unexpected character: HANGUL SYLLABLE PA\n",
      "Titles containing char: 1\n",
      "118    Pajeon (파 전 / Scallion Pancakes)\n",
      "Name: Title, dtype: object\n",
      "\n"
     ]
    }
   ],
   "source": [
    "pd.options.display.max_colwidth = 100\n",
    "expected_chars = string.ascii_letters + string.digits + ' ' + '!\"#%&\\'(),-.:?'\n",
    "unexpected_chars = [char for char in chars if char not in expected_chars]\n",
    "\n",
    "for char in unexpected_chars:\n",
    "    char_name = ('<control>' if (unicodedata.category(char) == 'Cc') else\n",
    "        unicodedata.name(char))\n",
    "    print(f'Unexpected character: {char_name}')\n",
    "    titles_containing_char = titles[titles.str.contains(char, regex=False)]\n",
    "    print(f'Titles containing char: {len(titles_containing_char)}')\n",
    "    print(titles_containing_char.head())\n",
    "    print()"
   ]
  },
  {
   "cell_type": "code",
   "execution_count": 10,
   "id": "16dfcd35",
   "metadata": {},
   "outputs": [],
   "source": [
    "def standardize_text_data(data):\n",
    "    # Drop NaNs\n",
    "    data = data.dropna()\n",
    "    # Drop duplicates\n",
    "    data = data.drop_duplicates()\n",
    "    # Drop data with unexpected characters\n",
    "    for char in unexpected_chars:\n",
    "        data = data[data.str.contains(char, regex=False) == False]\n",
    "    # Return result\n",
    "    return data"
   ]
  },
  {
   "cell_type": "code",
   "execution_count": 11,
   "id": "5a0ab1af",
   "metadata": {},
   "outputs": [
    {
     "name": "stdout",
     "output_type": "stream",
     "text": [
      "0    Miso-Butter Roast Chicken With Acorn Squash Panzanella\n",
      "1                           Crispy Salt and Pepper Potatoes\n",
      "2                               Thanksgiving Mac and Cheese\n",
      "3                        Italian Sausage and Bread Stuffing\n",
      "4                                              Newton's Law\n",
      "5                                              Warm Comfort\n",
      "6                                        Apples and Oranges\n",
      "7                                        Turmeric Hot Toddy\n",
      "8                                   Instant Pot Lamb Haleem\n",
      "9            Spiced Lentil and Caramelized Onion Baked Eggs\n",
      "Name: Title, dtype: object\n"
     ]
    }
   ],
   "source": [
    "\n",
    "\n",
    "standardized_titles = standardize_text_data(titles)\n",
    "print(standardized_titles.head(10))\n",
    "\n"
   ]
  },
  {
   "cell_type": "code",
   "execution_count": 12,
   "id": "7eb42a7e",
   "metadata": {},
   "outputs": [
    {
     "name": "stdout",
     "output_type": "stream",
     "text": [
      "count                                                      12572\n",
      "unique                                                     12572\n",
      "top       Miso-Butter Roast Chicken With Acorn Squash Panzanella\n",
      "freq                                                           1\n",
      "Name: Title, dtype: object\n"
     ]
    }
   ],
   "source": [
    "print(standardized_titles.describe())"
   ]
  },
  {
   "cell_type": "code",
   "execution_count": 13,
   "id": "813c750c",
   "metadata": {},
   "outputs": [
    {
     "name": "stdout",
     "output_type": "stream",
     "text": [
      "(12572, None)\n",
      "tf.Tensor(\n",
      "[b'M' b'i' b's' b'o' b'-' b'B' b'u' b't' b't' b'e' b'r' b' ' b'R' b'o'\n",
      " b'a' b's' b't' b' ' b'C' b'h' b'i' b'c' b'k' b'e' b'n' b' ' b'W' b'i'\n",
      " b't' b'h' b' ' b'A' b'c' b'o' b'r' b'n' b' ' b'S' b'q' b'u' b'a' b's'\n",
      " b'h' b' ' b'P' b'a' b'n' b'z' b'a' b'n' b'e' b'l' b'l' b'a'], shape=(54,), dtype=string)\n",
      "tf.Tensor(\n",
      "[b'C' b'r' b'i' b's' b'p' b'y' b' ' b'S' b'a' b'l' b't' b' ' b'a' b'n'\n",
      " b'd' b' ' b'P' b'e' b'p' b'p' b'e' b'r' b' ' b'P' b'o' b't' b'a' b't'\n",
      " b'o' b'e' b's'], shape=(31,), dtype=string)\n",
      "tf.Tensor(\n",
      "[b'T' b'h' b'a' b'n' b'k' b's' b'g' b'i' b'v' b'i' b'n' b'g' b' ' b'M'\n",
      " b'a' b'c' b' ' b'a' b'n' b'd' b' ' b'C' b'h' b'e' b'e' b's' b'e'], shape=(27,), dtype=string)\n",
      "tf.Tensor(\n",
      "[b'I' b't' b'a' b'l' b'i' b'a' b'n' b' ' b'S' b'a' b'u' b's' b'a' b'g'\n",
      " b'e' b' ' b'a' b'n' b'd' b' ' b'B' b'r' b'e' b'a' b'd' b' ' b'S' b't'\n",
      " b'u' b'f' b'f' b'i' b'n' b'g'], shape=(34,), dtype=string)\n",
      "tf.Tensor([b'N' b'e' b'w' b't' b'o' b'n' b\"'\" b's' b' ' b'L' b'a' b'w'], shape=(12,), dtype=string)\n"
     ]
    }
   ],
   "source": [
    "titles_split = tf.strings.unicode_split(standardized_titles, input_encoding='UTF-8')\n",
    "print(titles_split.shape)\n",
    "for title in titles_split[:5]:\n",
    "    print(title)"
   ]
  },
  {
   "cell_type": "code",
   "execution_count": 14,
   "id": "ef8027ae",
   "metadata": {},
   "outputs": [],
   "source": [
    "class SpecialTokens:\n",
    "    PADDING = '[PAD]' # Mask token for strings shorter than the maximum length\n",
    "    UNKNOWN = '[UNK]' # Unrecognised tokens are converted to this\n",
    "    START = '[STA]'   # Prepended to the start of each string\n",
    "    END = '[END]'     # Appended to the end of each string\n",
    "    Tokens = [PADDING, UNKNOWN, START, END]"
   ]
  },
  {
   "cell_type": "code",
   "execution_count": 15,
   "id": "cc5a7d0d",
   "metadata": {},
   "outputs": [],
   "source": [
    "\n",
    "\n",
    "vocab = SpecialTokens.Tokens + list(expected_chars)\n",
    "\n"
   ]
  },
  {
   "cell_type": "code",
   "execution_count": 16,
   "id": "0a43069f",
   "metadata": {},
   "outputs": [
    {
     "name": "stdout",
     "output_type": "stream",
     "text": [
      "(12572, None)\n",
      "tf.Tensor(\n",
      "[42 12 22 18 76 31 24 23 23  8 21 66 47 18  4 22 23 66 32 11 12  6 14  8\n",
      " 17 66 52 12 23 11 66 30  6 18 21 17 66 48 20 24  4 22 11 66 45  4 17 29\n",
      "  4 17  8 15 15  4], shape=(54,), dtype=int64)\n",
      "tf.Tensor(\n",
      "[32 21 12 22 19 28 66 48  4 15 23 66  4 17  7 66 45  8 19 19  8 21 66 45\n",
      " 18 23  4 23 18  8 22], shape=(31,), dtype=int64)\n",
      "tf.Tensor(\n",
      "[49 11  4 17 14 22 10 12 25 12 17 10 66 42  4  6 66  4 17  7 66 32 11  8\n",
      "  8 22  8], shape=(27,), dtype=int64)\n",
      "tf.Tensor(\n",
      "[38 23  4 15 12  4 17 66 48  4 24 22  4 10  8 66  4 17  7 66 31 21  8  4\n",
      "  7 66 48 23 24  9  9 12 17 10], shape=(34,), dtype=int64)\n",
      "tf.Tensor([43  8 26 23 18 17 72 22 66 41  4 26], shape=(12,), dtype=int64)\n"
     ]
    }
   ],
   "source": [
    "ids_from_chars = tf.keras.layers.StringLookup(vocabulary=vocab, mask_token=SpecialTokens.PADDING, oov_token=SpecialTokens.UNKNOWN)\n",
    "titles_ints = ids_from_chars(titles_split)\n",
    "print(titles_ints.shape)\n",
    "for title in titles_ints[:5]:\n",
    "    print(title)"
   ]
  },
  {
   "cell_type": "code",
   "execution_count": 17,
   "id": "750740e5",
   "metadata": {},
   "outputs": [
    {
     "name": "stdout",
     "output_type": "stream",
     "text": [
      "(12572, None)\n",
      "tf.Tensor(\n",
      "[b'M' b'i' b's' b'o' b'-' b'B' b'u' b't' b't' b'e' b'r' b' ' b'R' b'o'\n",
      " b'a' b's' b't' b' ' b'C' b'h' b'i' b'c' b'k' b'e' b'n' b' ' b'W' b'i'\n",
      " b't' b'h' b' ' b'A' b'c' b'o' b'r' b'n' b' ' b'S' b'q' b'u' b'a' b's'\n",
      " b'h' b' ' b'P' b'a' b'n' b'z' b'a' b'n' b'e' b'l' b'l' b'a'], shape=(54,), dtype=string)\n",
      "tf.Tensor(\n",
      "[b'C' b'r' b'i' b's' b'p' b'y' b' ' b'S' b'a' b'l' b't' b' ' b'a' b'n'\n",
      " b'd' b' ' b'P' b'e' b'p' b'p' b'e' b'r' b' ' b'P' b'o' b't' b'a' b't'\n",
      " b'o' b'e' b's'], shape=(31,), dtype=string)\n",
      "tf.Tensor(\n",
      "[b'T' b'h' b'a' b'n' b'k' b's' b'g' b'i' b'v' b'i' b'n' b'g' b' ' b'M'\n",
      " b'a' b'c' b' ' b'a' b'n' b'd' b' ' b'C' b'h' b'e' b'e' b's' b'e'], shape=(27,), dtype=string)\n",
      "tf.Tensor(\n",
      "[b'I' b't' b'a' b'l' b'i' b'a' b'n' b' ' b'S' b'a' b'u' b's' b'a' b'g'\n",
      " b'e' b' ' b'a' b'n' b'd' b' ' b'B' b'r' b'e' b'a' b'd' b' ' b'S' b't'\n",
      " b'u' b'f' b'f' b'i' b'n' b'g'], shape=(34,), dtype=string)\n",
      "tf.Tensor([b'N' b'e' b'w' b't' b'o' b'n' b\"'\" b's' b' ' b'L' b'a' b'w'], shape=(12,), dtype=string)\n"
     ]
    }
   ],
   "source": [
    "chars_from_ids = tf.keras.layers.StringLookup(\n",
    "    vocabulary=ids_from_chars.get_vocabulary(),\n",
    "    invert=True,\n",
    "    mask_token=SpecialTokens.PADDING,\n",
    "    oov_token=SpecialTokens.UNKNOWN)\n",
    "titles_split_sanity_check = chars_from_ids(titles_ints)\n",
    "print(titles_split_sanity_check.shape)\n",
    "for title in titles_split_sanity_check[:5]:\n",
    "    print(title)"
   ]
  },
  {
   "cell_type": "code",
   "execution_count": 18,
   "id": "7d11f737",
   "metadata": {},
   "outputs": [],
   "source": [
    "def add_special_tokens(tensor):\n",
    "    \"\"\"Adds special tokens to all vectorized strings in the tensor.\n",
    "    \n",
    "    The [STA] token is added to the start of all strings. The [END] token is added to the end.\n",
    "    \n",
    "    Arguments:\n",
    "    tensor -- a vectorized tensor of text data whose last dimension is sequence length\n",
    "    \n",
    "    Returns: the tensor with special tokens added to each example\n",
    "    \"\"\"\n",
    "    special_tokens_shape = list(tensor.shape)\n",
    "    special_tokens_shape[-1] = 1\n",
    "    start_tokens = ids_from_chars.get_vocabulary().index(SpecialTokens.START) * tf.ones(special_tokens_shape, dtype=tensor.dtype)\n",
    "    end_tokens = ids_from_chars.get_vocabulary().index(SpecialTokens.END) * tf.ones(special_tokens_shape, dtype=tensor.dtype)\n",
    "    return tf.concat((start_tokens, tensor, end_tokens), axis=-1)"
   ]
  },
  {
   "cell_type": "code",
   "execution_count": 19,
   "id": "01e59e00",
   "metadata": {},
   "outputs": [],
   "source": [
    "titles_ints_with_special_tokens = add_special_tokens(titles_ints)"
   ]
  },
  {
   "cell_type": "code",
   "execution_count": 20,
   "id": "27b5e19e",
   "metadata": {},
   "outputs": [
    {
     "data": {
      "text/plain": [
       "<tf.Tensor: shape=(12572, 114), dtype=int64, numpy=\n",
       "array([[ 2, 42, 12, ...,  0,  0,  0],\n",
       "       [ 2, 32, 21, ...,  0,  0,  0],\n",
       "       [ 2, 49, 11, ...,  0,  0,  0],\n",
       "       ...,\n",
       "       [ 2, 47, 12, ...,  0,  0,  0],\n",
       "       [ 2, 48, 19, ...,  0,  0,  0],\n",
       "       [ 2, 42,  8, ...,  0,  0,  0]], dtype=int64)>"
      ]
     },
     "execution_count": 20,
     "metadata": {},
     "output_type": "execute_result"
    }
   ],
   "source": [
    "\n",
    "\n",
    "titles_ints_square = titles_ints_with_special_tokens.to_tensor()\n",
    "titles_ints_square\n",
    "\n"
   ]
  },
  {
   "cell_type": "code",
   "execution_count": 21,
   "id": "0e930693",
   "metadata": {},
   "outputs": [],
   "source": [
    "\n",
    "\n",
    "def text_from_ids(ids):\n",
    "    return tf.strings.reduce_join(chars_from_ids(ids), axis=-1)\n",
    "\n"
   ]
  },
  {
   "cell_type": "code",
   "execution_count": 22,
   "id": "527a7b05",
   "metadata": {},
   "outputs": [],
   "source": [
    "\n",
    "\n",
    "train_ids, val_test_ids = train_test_split(titles_ints_square.numpy(), test_size=0.2)\n",
    "val_ids, test_ids = train_test_split(val_test_ids, test_size=0.5)\n",
    "\n"
   ]
  },
  {
   "cell_type": "code",
   "execution_count": 23,
   "id": "01bd6e4a",
   "metadata": {},
   "outputs": [
    {
     "name": "stdout",
     "output_type": "stream",
     "text": [
      "TensorSpec(shape=(114,), dtype=tf.int64, name=None)\n",
      "tf.Tensor(b'[STA]Duck Confit with Spicy Pickled Raisins[END][PAD][PAD][PAD][PAD][PAD][PAD][PAD][PAD][PAD][PAD][PAD][PAD][PAD][PAD][PAD][PAD][PAD][PAD][PAD][PAD][PAD][PAD][PAD][PAD][PAD][PAD][PAD][PAD][PAD][PAD][PAD][PAD][PAD][PAD][PAD][PAD][PAD][PAD][PAD][PAD][PAD][PAD][PAD][PAD][PAD][PAD][PAD][PAD][PAD][PAD][PAD][PAD][PAD][PAD][PAD][PAD][PAD][PAD][PAD][PAD][PAD][PAD][PAD][PAD][PAD][PAD][PAD][PAD][PAD][PAD][PAD][PAD][PAD][PAD]', shape=(), dtype=string)\n",
      "tf.Tensor(b'[STA]Shallot Yogurt[END][PAD][PAD][PAD][PAD][PAD][PAD][PAD][PAD][PAD][PAD][PAD][PAD][PAD][PAD][PAD][PAD][PAD][PAD][PAD][PAD][PAD][PAD][PAD][PAD][PAD][PAD][PAD][PAD][PAD][PAD][PAD][PAD][PAD][PAD][PAD][PAD][PAD][PAD][PAD][PAD][PAD][PAD][PAD][PAD][PAD][PAD][PAD][PAD][PAD][PAD][PAD][PAD][PAD][PAD][PAD][PAD][PAD][PAD][PAD][PAD][PAD][PAD][PAD][PAD][PAD][PAD][PAD][PAD][PAD][PAD][PAD][PAD][PAD][PAD][PAD][PAD][PAD][PAD][PAD][PAD][PAD][PAD][PAD][PAD][PAD][PAD][PAD][PAD][PAD][PAD][PAD][PAD][PAD][PAD][PAD][PAD][PAD][PAD]', shape=(), dtype=string)\n",
      "tf.Tensor(b'[STA]Kabocha Squash Cake with Brown Sugar Cream[END][PAD][PAD][PAD][PAD][PAD][PAD][PAD][PAD][PAD][PAD][PAD][PAD][PAD][PAD][PAD][PAD][PAD][PAD][PAD][PAD][PAD][PAD][PAD][PAD][PAD][PAD][PAD][PAD][PAD][PAD][PAD][PAD][PAD][PAD][PAD][PAD][PAD][PAD][PAD][PAD][PAD][PAD][PAD][PAD][PAD][PAD][PAD][PAD][PAD][PAD][PAD][PAD][PAD][PAD][PAD][PAD][PAD][PAD][PAD][PAD][PAD][PAD][PAD][PAD][PAD][PAD][PAD][PAD][PAD][PAD]', shape=(), dtype=string)\n",
      "tf.Tensor(b'[STA]Restorative Beef Broth[END][PAD][PAD][PAD][PAD][PAD][PAD][PAD][PAD][PAD][PAD][PAD][PAD][PAD][PAD][PAD][PAD][PAD][PAD][PAD][PAD][PAD][PAD][PAD][PAD][PAD][PAD][PAD][PAD][PAD][PAD][PAD][PAD][PAD][PAD][PAD][PAD][PAD][PAD][PAD][PAD][PAD][PAD][PAD][PAD][PAD][PAD][PAD][PAD][PAD][PAD][PAD][PAD][PAD][PAD][PAD][PAD][PAD][PAD][PAD][PAD][PAD][PAD][PAD][PAD][PAD][PAD][PAD][PAD][PAD][PAD][PAD][PAD][PAD][PAD][PAD][PAD][PAD][PAD][PAD][PAD][PAD][PAD][PAD][PAD][PAD][PAD][PAD][PAD][PAD][PAD]', shape=(), dtype=string)\n",
      "tf.Tensor(b'[STA]Pistachio Dark-Chocolate Crisps[END][PAD][PAD][PAD][PAD][PAD][PAD][PAD][PAD][PAD][PAD][PAD][PAD][PAD][PAD][PAD][PAD][PAD][PAD][PAD][PAD][PAD][PAD][PAD][PAD][PAD][PAD][PAD][PAD][PAD][PAD][PAD][PAD][PAD][PAD][PAD][PAD][PAD][PAD][PAD][PAD][PAD][PAD][PAD][PAD][PAD][PAD][PAD][PAD][PAD][PAD][PAD][PAD][PAD][PAD][PAD][PAD][PAD][PAD][PAD][PAD][PAD][PAD][PAD][PAD][PAD][PAD][PAD][PAD][PAD][PAD][PAD][PAD][PAD][PAD][PAD][PAD][PAD][PAD][PAD][PAD][PAD]', shape=(), dtype=string)\n"
     ]
    }
   ],
   "source": [
    "train_ids_ds = tf.data.Dataset.from_tensor_slices(train_ids)\n",
    "val_ids_ds = tf.data.Dataset.from_tensor_slices(val_ids)\n",
    "test_ids_ds = tf.data.Dataset.from_tensor_slices(test_ids)\n",
    "\n",
    "print(train_ids_ds.element_spec)\n",
    "for ids in train_ids_ds.take(5):\n",
    "    print(text_from_ids(ids))"
   ]
  },
  {
   "cell_type": "code",
   "execution_count": 24,
   "id": "03aa3a8e",
   "metadata": {},
   "outputs": [],
   "source": [
    "def split_input_target(sequence):\n",
    "    input_text = sequence[:-1]\n",
    "    target_text = sequence[1:]\n",
    "    return input_text, target_text"
   ]
  },
  {
   "cell_type": "code",
   "execution_count": 25,
   "id": "3f7d26e5",
   "metadata": {},
   "outputs": [],
   "source": [
    "\n",
    "\n",
    "train_ds = train_ids_ds.map(split_input_target)\n",
    "val_ds = val_ids_ds.map(split_input_target)\n",
    "test_ds = test_ids_ds.map(split_input_target)\n",
    "\n"
   ]
  },
  {
   "cell_type": "code",
   "execution_count": 26,
   "id": "d9deb9bc",
   "metadata": {},
   "outputs": [
    {
     "data": {
      "text/plain": [
       "<_PrefetchDataset element_spec=(TensorSpec(shape=(64, 113), dtype=tf.int64, name=None), TensorSpec(shape=(64, 113), dtype=tf.int64, name=None))>"
      ]
     },
     "execution_count": 26,
     "metadata": {},
     "output_type": "execute_result"
    }
   ],
   "source": [
    "BATCH_SIZE = 64\n",
    "\n",
    "# Buffer size to shuffle the dataset\n",
    "# (TF data is designed to work with possibly infinite sequences,\n",
    "# so it doesn't attempt to shuffle the entire sequence in memory. Instead,\n",
    "# it maintains a buffer in which it shuffles elements).\n",
    "BUFFER_SIZE = 10000\n",
    "\n",
    "train_ds = (\n",
    "    train_ds\n",
    "    .shuffle(BUFFER_SIZE)\n",
    "    .batch(BATCH_SIZE, drop_remainder=True)\n",
    "    .prefetch(tf.data.experimental.AUTOTUNE))\n",
    "\n",
    "val_ds = (\n",
    "    val_ds\n",
    "    .shuffle(BUFFER_SIZE)\n",
    "    .batch(BATCH_SIZE, drop_remainder=True)\n",
    "    .prefetch(tf.data.experimental.AUTOTUNE))\n",
    "\n",
    "test_ds = (\n",
    "    test_ds\n",
    "    .shuffle(BUFFER_SIZE)\n",
    "    .batch(BATCH_SIZE, drop_remainder=True)\n",
    "    .prefetch(tf.data.experimental.AUTOTUNE))\n",
    "\n",
    "train_ds"
   ]
  },
  {
   "cell_type": "code",
   "execution_count": 27,
   "id": "4028e4b1",
   "metadata": {},
   "outputs": [],
   "source": [
    "vocab_size = len(ids_from_chars.get_vocabulary())\n",
    "\n",
    "# The embedding dimension\n",
    "embedding_dim = 256\n",
    "\n",
    "# Number of RNN units\n",
    "rnn_units = 1024"
   ]
  },
  {
   "cell_type": "code",
   "execution_count": 28,
   "id": "36ebf149",
   "metadata": {},
   "outputs": [],
   "source": [
    "class RecipeTitleModel(tf.keras.Model):\n",
    "    def __init__(self, vocab_size, embedding_dim, rnn_units, **kwargs):\n",
    "        super().__init__(self, **kwargs)\n",
    "        self.vocab_size = vocab_size\n",
    "        self.embedding_dim = embedding_dim\n",
    "        self.rnn_units = rnn_units\n",
    "        self.embedding = tf.keras.layers.Embedding(vocab_size, embedding_dim)\n",
    "        self.gru = tf.keras.layers.GRU(rnn_units, return_sequences=True, return_state=True)\n",
    "        self.dense = tf.keras.layers.Dense(vocab_size)\n",
    "\n",
    "    def get_config(self):\n",
    "        return {\n",
    "          'vocab_size': self.vocab_size,\n",
    "          'embedding_dim': self.embedding_dim,\n",
    "          'rnn_units': self.rnn_units\n",
    "        }\n",
    "\n",
    "    @classmethod\n",
    "    def from_config(cls, config):\n",
    "        return cls(**config)\n",
    "\n",
    "    def call(self, inputs, training=False, state=None, return_state=False):\n",
    "        x = inputs\n",
    "        x = self.embedding(x, training=training)\n",
    "        if state is None:\n",
    "            state = self.gru.get_initial_state(x)\n",
    "        x, state = self.gru(x, initial_state=state, training=training)\n",
    "        x = self.dense(x, training=training)\n",
    "        if return_state:\n",
    "            return x, state\n",
    "        return x"
   ]
  },
  {
   "cell_type": "code",
   "execution_count": 29,
   "id": "982a7188",
   "metadata": {},
   "outputs": [],
   "source": [
    "model = RecipeTitleModel(\n",
    "    vocab_size=vocab_size,\n",
    "    embedding_dim=embedding_dim,\n",
    "    rnn_units=rnn_units)"
   ]
  },
  {
   "cell_type": "code",
   "execution_count": 30,
   "id": "43f5c489",
   "metadata": {},
   "outputs": [
    {
     "name": "stdout",
     "output_type": "stream",
     "text": [
      "(64, 113, 80) # (batch_size, sequence_length, vocab_size)\n"
     ]
    }
   ],
   "source": [
    "for input_example_batch, target_example_batch in train_ds.take(1):\n",
    "    example_batch_predictions = model(input_example_batch)\n",
    "    print(example_batch_predictions.shape, \"# (batch_size, sequence_length, vocab_size)\")"
   ]
  },
  {
   "cell_type": "code",
   "execution_count": 31,
   "id": "8dd9e1e7",
   "metadata": {},
   "outputs": [
    {
     "name": "stdout",
     "output_type": "stream",
     "text": [
      "Model: \"recipe_title_model\"\n",
      "_________________________________________________________________\n",
      " Layer (type)                Output Shape              Param #   \n",
      "=================================================================\n",
      " embedding (Embedding)       multiple                  20480     \n",
      "                                                                 \n",
      " gru (GRU)                   multiple                  3938304   \n",
      "                                                                 \n",
      " dense (Dense)               multiple                  82000     \n",
      "                                                                 \n",
      "=================================================================\n",
      "Total params: 4040784 (15.41 MB)\n",
      "Trainable params: 4040784 (15.41 MB)\n",
      "Non-trainable params: 0 (0.00 Byte)\n",
      "_________________________________________________________________\n"
     ]
    }
   ],
   "source": [
    "\n",
    "\n",
    "model.summary()\n",
    "\n"
   ]
  },
  {
   "cell_type": "code",
   "execution_count": 32,
   "id": "c7498d52",
   "metadata": {},
   "outputs": [
    {
     "data": {
      "text/plain": [
       "array([ 7, 38, 77, 17,  0, 44, 17, 51, 68, 15, 79, 44, 35, 54, 27, 49, 34,\n",
       "       69, 13,  1, 53, 73, 73, 57, 19, 77, 24, 44, 20, 67, 75, 49, 53, 27,\n",
       "       18,  3, 50, 53, 77, 65, 10, 28, 55, 71, 12, 21, 26, 32, 20, 79, 32,\n",
       "       37, 22, 77, 79,  8,  3, 69, 17, 49, 70, 62, 76, 13, 55, 55, 35, 57,\n",
       "       50, 75, 17, 37, 48, 76,  3,  7,  3, 48, 31, 44, 24, 30, 63, 59, 75,\n",
       "       11, 42, 46, 77, 59, 37, 71,  9, 14, 23, 71, 58,  2, 68,  3, 44, 71,\n",
       "       64,  2, 16, 30, 18, 31, 72, 14, 67, 47, 22], dtype=int64)"
      ]
     },
     "execution_count": 32,
     "metadata": {},
     "output_type": "execute_result"
    }
   ],
   "source": [
    "sampled_indices = tf.random.categorical(example_batch_predictions[0], num_samples=1)\n",
    "sampled_indices = tf.squeeze(sampled_indices, axis=-1).numpy()\n",
    "sampled_indices"
   ]
  },
  {
   "cell_type": "code",
   "execution_count": 33,
   "id": "cd90bce7",
   "metadata": {},
   "outputs": [
    {
     "data": {
      "text/plain": [
       "<tf.Tensor: shape=(64, 113), dtype=int64, numpy=\n",
       "array([[ 2, 47, 18, ...,  0,  0,  0],\n",
       "       [ 2, 52,  4, ...,  0,  0,  0],\n",
       "       [ 2, 36,  4, ...,  0,  0,  0],\n",
       "       ...,\n",
       "       [ 2, 32, 21, ...,  0,  0,  0],\n",
       "       [ 2, 48, 11, ...,  0,  0,  0],\n",
       "       [ 2, 35, 21, ...,  0,  0,  0]], dtype=int64)>"
      ]
     },
     "execution_count": 33,
     "metadata": {},
     "output_type": "execute_result"
    }
   ],
   "source": [
    "input_example_batch"
   ]
  },
  {
   "cell_type": "code",
   "execution_count": 34,
   "id": "032e0516",
   "metadata": {},
   "outputs": [
    {
     "name": "stdout",
     "output_type": "stream",
     "text": [
      "Input:\n",
      " b'[STA]Root Beer Baked Beans[END][PAD][PAD][PAD][PAD][PAD][PAD][PAD][PAD][PAD][PAD][PAD][PAD][PAD][PAD][PAD][PAD][PAD][PAD][PAD][PAD][PAD][PAD][PAD][PAD][PAD][PAD][PAD][PAD][PAD][PAD][PAD][PAD][PAD][PAD][PAD][PAD][PAD][PAD][PAD][PAD][PAD][PAD][PAD][PAD][PAD][PAD][PAD][PAD][PAD][PAD][PAD][PAD][PAD][PAD][PAD][PAD][PAD][PAD][PAD][PAD][PAD][PAD][PAD][PAD][PAD][PAD][PAD][PAD][PAD][PAD][PAD][PAD][PAD][PAD][PAD][PAD][PAD][PAD][PAD][PAD][PAD][PAD][PAD][PAD][PAD][PAD][PAD][PAD][PAD][PAD]'\n",
      "\n",
      "Next Char Predictions:\n",
      " b'dI.n[PAD]OnV\"l?OFYxTE#j[UNK]X((1p.uOq!,TXxo[END]UX.9gyZ&irwCq?CHs.?e[END]#nT%6-jZZF1U,nHS-[END]d[END]SBOuA73,hMQ.3H&fkt&2[STA]\"[END]O&8[STA]mAoB\\'k!Rs'\n"
     ]
    }
   ],
   "source": [
    "print(\"Input:\\n\", text_from_ids(input_example_batch[0]).numpy())\n",
    "print()\n",
    "print(\"Next Char Predictions:\\n\", text_from_ids(sampled_indices).numpy())"
   ]
  },
  {
   "cell_type": "code",
   "execution_count": 35,
   "id": "3208b5c4",
   "metadata": {},
   "outputs": [],
   "source": [
    "loss = tf.losses.SparseCategoricalCrossentropy(from_logits=True)"
   ]
  },
  {
   "cell_type": "code",
   "execution_count": 36,
   "id": "d77894cf",
   "metadata": {},
   "outputs": [
    {
     "name": "stdout",
     "output_type": "stream",
     "text": [
      "Prediction shape:  (64, 113, 80)  # (batch_size, sequence_length, vocab_size)\n",
      "Mean loss:         tf.Tensor(4.373099, shape=(), dtype=float32)\n"
     ]
    }
   ],
   "source": [
    "\n",
    "\n",
    "example_batch_mean_loss = loss(target_example_batch, example_batch_predictions)\n",
    "print(\"Prediction shape: \", example_batch_predictions.shape, \" # (batch_size, sequence_length, vocab_size)\")\n",
    "print(\"Mean loss:        \", example_batch_mean_loss)\n",
    "\n"
   ]
  },
  {
   "cell_type": "code",
   "execution_count": 37,
   "id": "4345a748",
   "metadata": {},
   "outputs": [
    {
     "data": {
      "text/plain": [
       "79.288956"
      ]
     },
     "execution_count": 37,
     "metadata": {},
     "output_type": "execute_result"
    }
   ],
   "source": [
    "tf.exp(example_batch_mean_loss).numpy()"
   ]
  },
  {
   "cell_type": "code",
   "execution_count": 38,
   "id": "68a31a7c",
   "metadata": {},
   "outputs": [],
   "source": [
    "model.compile(optimizer='adam', loss=loss)"
   ]
  },
  {
   "cell_type": "code",
   "execution_count": 39,
   "id": "f3900e38",
   "metadata": {},
   "outputs": [],
   "source": [
    "\n",
    "\n",
    "EPOCHS = 10\n",
    "\n"
   ]
  },
  {
   "cell_type": "code",
   "execution_count": 40,
   "id": "66e86077",
   "metadata": {},
   "outputs": [
    {
     "name": "stdout",
     "output_type": "stream",
     "text": [
      "Epoch 1/10\n",
      "157/157 [==============================] - 541s 3s/step - loss: 1.0770 - val_loss: 0.7072\n",
      "Epoch 2/10\n",
      "157/157 [==============================] - 1321s 8s/step - loss: 0.6546 - val_loss: 0.5963\n",
      "Epoch 3/10\n",
      "157/157 [==============================] - 537s 3s/step - loss: 0.5665 - val_loss: 0.5194\n",
      "Epoch 4/10\n",
      "157/157 [==============================] - 534s 3s/step - loss: 0.4827 - val_loss: 0.4392\n",
      "Epoch 5/10\n",
      "157/157 [==============================] - 378s 2s/step - loss: 0.4136 - val_loss: 0.3845\n",
      "Epoch 6/10\n",
      "157/157 [==============================] - 374s 2s/step - loss: 0.3670 - val_loss: 0.3535\n",
      "Epoch 7/10\n",
      "157/157 [==============================] - 364s 2s/step - loss: 0.3342 - val_loss: 0.3312\n",
      "Epoch 8/10\n",
      "157/157 [==============================] - 371s 2s/step - loss: 0.3104 - val_loss: 0.3201\n",
      "Epoch 9/10\n",
      "157/157 [==============================] - 357s 2s/step - loss: 0.2914 - val_loss: 0.3142\n",
      "Epoch 10/10\n",
      "157/157 [==============================] - 335s 2s/step - loss: 0.2758 - val_loss: 0.3094\n"
     ]
    }
   ],
   "source": [
    "\n",
    "\n",
    "history = model.fit(train_ds, validation_data=val_ds, epochs=EPOCHS)\n",
    "\n"
   ]
  },
  {
   "cell_type": "code",
   "execution_count": 41,
   "id": "67724df9",
   "metadata": {},
   "outputs": [
    {
     "data": {
      "image/png": "[encoded data removed]",
      "text/plain": [
       "<Figure size 640x480 with 1 Axes>"
      ]
     },
     "metadata": {},
     "output_type": "display_data"
    }
   ],
   "source": [
    "plt.plot(history.epoch, history.history['loss'], 'b', label='Training loss')\n",
    "plt.plot(history.epoch, history.history['val_loss'], 'r', label='Validation loss')\n",
    "plt.title('Training and validation loss')\n",
    "plt.xlabel('Epochs')\n",
    "plt.ylabel('Loss')\n",
    "plt.legend()\n",
    "\n",
    "plt.show()"
   ]
  },
  {
   "cell_type": "code",
   "execution_count": 42,
   "id": "24fc5db4",
   "metadata": {},
   "outputs": [
    {
     "name": "stdout",
     "output_type": "stream",
     "text": [
      "INFO:tensorflow:Assets written to: saved_model\\assets\n"
     ]
    },
    {
     "name": "stderr",
     "output_type": "stream",
     "text": [
      "INFO:tensorflow:Assets written to: saved_model\\assets\n"
     ]
    }
   ],
   "source": [
    "model.save('saved_model')"
   ]
  },
  {
   "cell_type": "code",
   "execution_count": 43,
   "id": "047e0222",
   "metadata": {},
   "outputs": [],
   "source": [
    "loaded_model = tf.keras.models.load_model('saved_model', custom_objects={'RecipeTitleModel': RecipeTitleModel})"
   ]
  },
  {
   "cell_type": "code",
   "execution_count": 45,
   "id": "a6ca7fdb",
   "metadata": {},
   "outputs": [
    {
     "name": "stdout",
     "output_type": "stream",
     "text": [
      "(64, 113, 80) # (batch_size, sequence_length, vocab_size)\n",
      "(64, 1024)    # (batch_size, rnn_units)\n"
     ]
    }
   ],
   "source": [
    "for input_example_batch, target_example_batch in train_ds.take(1):\n",
    "    example_batch_predictions, example_states = loaded_model(input_example_batch, state=None, return_state=True)\n",
    "    print(example_batch_predictions.shape, \"# (batch_size, sequence_length, vocab_size)\")\n",
    "    print(example_states.shape, \"   # (batch_size, rnn_units)\")"
   ]
  },
  {
   "cell_type": "code",
   "execution_count": 46,
   "id": "e36958e2",
   "metadata": {},
   "outputs": [],
   "source": [
    "class RecipeTitleGenerator:\n",
    "    def __init__(self, model, chars_from_ids, ids_from_chars, temperature=1.0):\n",
    "        super().__init__()\n",
    "        self.temperature = temperature\n",
    "        self.model = model\n",
    "        self.chars_from_ids = chars_from_ids\n",
    "        self.ids_from_chars = ids_from_chars\n",
    "\n",
    "        # Create a mask to prevent UNKNOWN from being generated.\n",
    "        skip_ids = self.ids_from_chars([SpecialTokens.UNKNOWN])[:, None]\n",
    "        sparse_mask = tf.SparseTensor(\n",
    "            # Put a -inf at each bad index.\n",
    "            values=[-float('inf')]*len(skip_ids),\n",
    "            indices=skip_ids,\n",
    "            # Match the shape to the vocabulary\n",
    "            dense_shape=[len(ids_from_chars.get_vocabulary())])\n",
    "        self.prediction_mask = tf.sparse.to_dense(sparse_mask)\n",
    "\n",
    "        self.start_token_id = ids_from_chars.get_vocabulary().index(SpecialTokens.START)\n",
    "        self.end_token_id = ids_from_chars.get_vocabulary().index(SpecialTokens.END)\n",
    "    \n",
    "    def generate_one_step(self, input_ids, state=None):\n",
    "        # Run the model.\n",
    "        # predicted_logits.shape is [batch, char, next_char_logits]\n",
    "        predicted_logits, state = self.model(inputs=input_ids, state=state, return_state=True)\n",
    "        # Only use the last prediction.\n",
    "        predicted_logits = predicted_logits[:, -1, :]\n",
    "        predicted_logits = predicted_logits/self.temperature\n",
    "        # Apply the prediction mask: prevent \"[UNK]\" from being generated.\n",
    "        predicted_logits = predicted_logits + self.prediction_mask\n",
    "\n",
    "        # Sample the output logits to generate token IDs.\n",
    "        predicted_ids = tf.random.categorical(predicted_logits, num_samples=1)\n",
    "\n",
    "        # Return the ids and model state.\n",
    "        return predicted_ids, state\n",
    "    \n",
    "    def generate(self, prompt=None, max_tokens=200, prepend_start_token=True, repeats=1):\n",
    "        next_id = None\n",
    "        state = None\n",
    "        \n",
    "        if prepend_start_token:\n",
    "            next_id = tf.constant(self.start_token_id, shape=(repeats, 1), dtype=tf.int64)\n",
    "            next_id, state = self.generate_one_step(next_id, state=state)\n",
    "        \n",
    "        if prompt is not None:\n",
    "            prompt_batch = tf.tile(prompt[None], multiples=[repeats])\n",
    "            prompt_chars = tf.strings.unicode_split(prompt_batch, 'UTF-8').to_tensor()\n",
    "            next_id = self.ids_from_chars(prompt_chars)\n",
    "        \n",
    "        result_ids = [next_id]\n",
    "\n",
    "        done = tf.constant(False, shape=(repeats, 1))\n",
    "        for n in range(max_tokens):\n",
    "            next_id, state = self.generate_one_step(next_id, state=state)\n",
    "            result_ids.append(next_id)\n",
    "            done |= (next_id == self.end_token_id)\n",
    "            if tf.math.reduce_all(done):\n",
    "                break\n",
    "\n",
    "        result_ids = tf.concat(result_ids, axis=-1)\n",
    "        result_ids = self._trim_result_ids(result_ids)\n",
    "        result_chars = self.chars_from_ids(result_ids)\n",
    "        result = tf.strings.reduce_join(result_chars, axis=1)\n",
    "        return result\n",
    "    \n",
    "    def _trim_result_ids(self, result_ids):\n",
    "        end_token_indices = tf.where(result_ids == self.end_token_id)\n",
    "        assert end_token_indices.shape[0] == result_ids.shape[0], 'One or more of the generated sequences have multiple [END] tokens.'\n",
    "        end_token_index = end_token_indices[:, 1]\n",
    "        result_ids = tf.RaggedTensor.from_tensor(result_ids, lengths=end_token_index)\n",
    "        return result_ids"
   ]
  },
  {
   "cell_type": "code",
   "execution_count": 47,
   "id": "da8f03ce",
   "metadata": {},
   "outputs": [],
   "source": [
    "recipe_title_generator = RecipeTitleGenerator(loaded_model, chars_from_ids, ids_from_chars, temperature=1)"
   ]
  },
  {
   "cell_type": "code",
   "execution_count": 48,
   "id": "5116f8ac",
   "metadata": {},
   "outputs": [
    {
     "name": "stdout",
     "output_type": "stream",
     "text": [
      "tf.Tensor([b'Rice Pecan Slawlokes'], shape=(1,), dtype=string) \n",
      "\n",
      "________________________________________________________________________________\n",
      "\n",
      "Run time: 0.5046858787536621\n"
     ]
    }
   ],
   "source": [
    "start = time.time()\n",
    "prompt = tf.constant('Rice')\n",
    "result = recipe_title_generator.generate(prompt)\n",
    "end = time.time()\n",
    "print(result, '\\n\\n' + '_'*80)\n",
    "print('\\nRun time:', end - start)"
   ]
  },
  {
   "cell_type": "code",
   "execution_count": 49,
   "id": "8f3b28d2",
   "metadata": {},
   "outputs": [
    {
     "name": "stdout",
     "output_type": "stream",
     "text": [
      "tf.Tensor(\n",
      "[b'Polenta Rich (Ball Soup, and Fraised Shallots' b'Polenta'\n",
      " b'Polenta with Asparagus, Ovecchies, and Tomatoes'\n",
      " b'Polenta Gazuach-Watermelon Granita' b'Polenta with Sausages and Dried'\n",
      " b'Polenta Rampberry Jam' b'Polenta Garlic Rolls' b'Polenta Burger'\n",
      " b'Polenta with Pancetta, Bell, Rediy, and Bestlo-Egg Souch' b'Polenta'], shape=(10,), dtype=string) \n",
      "\n",
      "________________________________________________________________________________\n",
      "\n",
      "Run time: 1.1828532218933105\n"
     ]
    }
   ],
   "source": [
    "start = time.time()\n",
    "prompt = tf.constant('Polenta')\n",
    "result = recipe_title_generator.generate(prompt, repeats=10)\n",
    "end = time.time()\n",
    "print(result, '\\n\\n' + '_'*80)\n",
    "print('\\nRun time:', end - start)"
   ]
  },
  {
   "cell_type": "code",
   "execution_count": 50,
   "id": "445f2dbc",
   "metadata": {},
   "outputs": [
    {
     "name": "stdout",
     "output_type": "stream",
     "text": [
      "tf.Tensor(\n",
      "[b'Baked Peaches, Propeccoling and Curry Serrant Panne Sou'\n",
      " b'Lumbut Chorder Dit' b'Butalona'\n",
      " b'Grilled Zucchini Salad with Aprocot Duj' b'Firry Semmer Drussin Soup'\n",
      " b'Green Cupcake Green Okinish'\n",
      " b'Escarole Salad with Squash, Shallots and Cream'\n",
      " b'Grollin . -Leek Barberur Salad with Ryubanh'\n",
      " b'Green Christm Noorles with Radishes and Parsnips'\n",
      " b'Tender Tortal Barley Bungles'], shape=(10,), dtype=string) \n",
      "\n",
      "________________________________________________________________________________\n",
      "\n",
      "Run time: 1.218597412109375\n"
     ]
    }
   ],
   "source": [
    "start = time.time()\n",
    "result = recipe_title_generator.generate(None, repeats=10)\n",
    "end = time.time()\n",
    "print(result, '\\n\\n' + '_'*80)\n",
    "print('\\nRun time:', end - start)"
   ]
  },
  {
   "cell_type": "code",
   "execution_count": null,
   "id": "43a8b092",
   "metadata": {},
   "outputs": [],
   "source": []
  }
 ],
 "metadata": {
  "kernelspec": {
   "display_name": "Python 3 (ipykernel)",
   "language": "python",
   "name": "python3"
  },
  "language_info": {
   "codemirror_mode": {
    "name": "ipython",
    "version": 3
   },
   "file_extension": ".py",
   "mimetype": "text/x-python",
   "name": "python",
   "nbconvert_exporter": "python",
   "pygments_lexer": "ipython3",
   "version": "3.10.9"
  }
 },
 "nbformat": 4,
 "nbformat_minor": 5
}
